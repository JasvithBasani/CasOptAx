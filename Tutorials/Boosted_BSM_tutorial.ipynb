{
 "cells": [
  {
   "cell_type": "code",
   "execution_count": 1,
   "id": "c540b534",
   "metadata": {},
   "outputs": [
    {
     "name": "stdout",
     "output_type": "stream",
     "text": [
      "C code in meshes/c not compiled (run makefile to compile), falling back to Numba.\n"
     ]
    },
    {
     "name": "stderr",
     "output_type": "stream",
     "text": [
      "c:\\Users\\jasvith\\Desktop\\Code\\CasOptAx\\meshes_utils.py:20: UserWarning: Please make sure the meshes package is imported. To import the meshes package, git clone https://github.com/QPG-MIT/meshes.git\n",
      "  warnings.warn(\"Please make sure the meshes package is imported. To import the meshes package, git clone https://github.com/QPG-MIT/meshes.git\")\n"
     ]
    }
   ],
   "source": [
    "import numpy as np\n",
    "import matplotlib.pyplot as plt\n",
    "import matplotlib.patches as patches\n",
    "from functools import partial\n",
    "from tqdm import tqdm\n",
    "\n",
    "import meshes as ms\n",
    "from meshes.mesh import StructuredMeshNetwork\n",
    "from meshes.crossing import Crossing, MZICrossing\n",
    "from meshes.jax import dot\n",
    "\n",
    "import CasOptAx as conn\n",
    "from CasOptAx.linear_optics import Linear_Optics\n",
    "from CasOptAx.circuit_builder import Circuit_singlemode\n",
    "from CasOptAx.meshes_utils import Prunable_SCF"
   ]
  },
  {
   "cell_type": "code",
   "execution_count": 2,
   "id": "bc2c5a97",
   "metadata": {},
   "outputs": [],
   "source": [
    "import jax\n",
    "from jax import jit\n",
    "import jax.numpy as jnp\n",
    "from jax import flatten_util\n",
    "import pickle\n",
    "\n",
    "from scipy.stats import entropy"
   ]
  },
  {
   "cell_type": "code",
   "execution_count": 3,
   "id": "d03b75e5",
   "metadata": {},
   "outputs": [],
   "source": [
    "N_photons = 6\n",
    "N_modes = 8\n",
    "\n",
    "lo = Linear_Optics(N_modes)\n",
    "with open('circ_class_6_photons_8_modes.pickle', 'rb') as handle:\n",
    "    circ = pickle.load(handle)\n",
    "\n",
    "\n",
    "init_state = circ.state_amps.copy()\n",
    "# circ.visualize_state(init_state)\n",
    "# Make the bell states\n",
    "zero_state = {list(init_state.keys())[i]: 0 + 0j for i in range(circ.num_possible_states)}\n",
    "\n",
    "phi_plus = zero_state.copy()\n",
    "phi_plus[(1, 0, 1, 0, 1, 1, 1, 1)] = 1/np.sqrt(2)\n",
    "phi_plus[(0, 1, 0, 1, 1, 1, 1, 1)] = 1/np.sqrt(2)\n",
    "\n",
    "phi_minus = zero_state.copy()\n",
    "phi_minus[(1, 0, 1, 0, 1, 1, 1, 1)] = 1/np.sqrt(2)\n",
    "phi_minus[(0, 1, 0, 1, 1, 1, 1, 1)] = -1 * 1/np.sqrt(2)\n",
    "\n",
    "psi_plus = zero_state.copy()\n",
    "psi_plus[(1, 0, 0, 1, 1, 1, 1, 1)] = 1/np.sqrt(2)\n",
    "psi_plus[(0, 1, 1, 0, 1, 1, 1, 1)] = 1/np.sqrt(2)\n",
    "\n",
    "psi_minus = zero_state.copy()\n",
    "psi_minus[(1, 0, 0, 1, 1, 1, 1, 1)] = 1/np.sqrt(2)\n",
    "psi_minus[(0, 1, 1, 0, 1, 1, 1, 1)] = -1 * 1/np.sqrt(2)"
   ]
  },
  {
   "cell_type": "code",
   "execution_count": 4,
   "id": "bdf84f78",
   "metadata": {},
   "outputs": [],
   "source": [
    "def linear_evolution(circ, state_amps, U):\n",
    "    r\"\"\"\n",
    "    Slightly modified version of circ.linear_evolution to avoid reconstructing the pytree\n",
    "\n",
    "    :param circ: Circuit object containing state indices and factorial precomputations\n",
    "    :param state_amps: Probability amplitudes of the states being input into the mesh\n",
    "    :param U: Unitary matrix representing the transformation\n",
    "    :return: Output probability amplitudes of all the states, maintaining pytree structure\n",
    "    \"\"\"\n",
    "    weights = U.astype(jnp.complex64)  # Ensure the dtype is suitable for complex operations\n",
    "\n",
    "    def transform_single_state(amp, states_array, states_factorial):\n",
    "        return bosonic_transform(amp, weights, states_array, states_factorial)\n",
    "\n",
    "    # Direct tree map application without flattening/unflattening unnecessarily\n",
    "    new_amps = jax.tree_util.tree_map(transform_single_state, state_amps, circ.all_states_idx, circ.all_states_factorial)\n",
    "\n",
    "    # Efficient summation using tree_reduce\n",
    "    def sum_tree_leaves(tree):\n",
    "        return jax.tree_util.tree_reduce(lambda a, b: a + b, tree)\n",
    "\n",
    "    return sum_tree_leaves(new_amps)\n",
    "\n",
    "@partial(jit, static_argnums=(0,))\n",
    "def bosonic_transform(amp, U, states_array_idx, states_array_factorial):\n",
    "    r\"\"\"\n",
    "    Correspondingly updated funtion to support the linear_evolution function\n",
    "\n",
    "    :param amp: Probability amplitude of a given state, as passed via tree_map from add_linear_layer\n",
    "    :param U: Unitary matrix weights, typically matrix implemented by MZI mesh derived from theta, phi, D, alpha, beta passed to add_linear_layer\n",
    "    :param states_array_idx: Indices of states to extract sub-matrix U_st from matrix U\n",
    "    :param states_array_factorial: product of factorial of corresponding states\n",
    "    :return: Pytree (structure of self.possible_states_dict) of how every state maps to every other state\n",
    "    \"\"\"\n",
    "    def make_U_st(U, idx_array):\n",
    "        r\"\"\"\n",
    "        Make U_st matrix from U - m_{k} copies of the k^{th} input state column and n_{k} copies of the k^{th} output state row\n",
    "\n",
    "        :param U: Matrix to calculate the sub-matrices\n",
    "        :param idx_array: Indices corresponding to the m_{k} and n_{k} states, generated in self.all_states_idx\n",
    "        :return: submatrix U_{st}\n",
    "        \"\"\"\n",
    "        idx_x, idx_y = idx_array[0], idx_array[1]\n",
    "        return U[:, idx_x][idx_y]\n",
    "\n",
    "    U_st = jax.vmap(lambda idx_val: make_U_st(U, states_array_idx[idx_val]))(circ.arange_possible_states)\n",
    "    perm_vals = jax.vmap(lambda idx: circ.lo.calc_perm(U_st[idx]))(circ.arange_possible_states)\n",
    "    new_amps = amp * perm_vals / jnp.sqrt(states_array_factorial)\n",
    "    return new_amps"
   ]
  },
  {
   "cell_type": "code",
   "execution_count": 5,
   "id": "45047388",
   "metadata": {},
   "outputs": [
    {
     "name": "stdout",
     "output_type": "stream",
     "text": [
      "CPU times: total: 14.5 s\n",
      "Wall time: 2.88 s\n"
     ]
    }
   ],
   "source": [
    "N_photons, N_modes = 6, 8\n",
    "\n",
    "lo = Linear_Optics(N_modes)\n",
    "U = jnp.eye(N_modes, dtype='bfloat16')\n",
    "test_out_state = %time linear_evolution(circ, init_state, U)"
   ]
  },
  {
   "cell_type": "code",
   "execution_count": 6,
   "id": "39e70166",
   "metadata": {},
   "outputs": [],
   "source": [
    "prior_prob_of_input = jnp.array([0.25, 0.25, 0.25, 0.25])\n",
    "bell_states = [phi_plus, phi_minus, psi_plus, psi_minus]\n",
    "IDK_threshold = 0.6\n",
    "\n",
    "def calc_success_prob(U, IDK_threshold):\n",
    "  output_conditional_probs = jnp.zeros((4, circ.num_possible_states))\n",
    "  output_conditional_probs_withIDK = np.zeros((5, circ.num_possible_states))\n",
    "  out_state_array = np.zeros((4, circ.num_possible_states)) + 0j\n",
    "  for idx, bell_state in enumerate(bell_states):\n",
    "    out_state = linear_evolution(circ, bell_state, U)\n",
    "    out_state_array[idx] = out_state\n",
    "    output_conditional_probs = output_conditional_probs.at[idx].set(jnp.abs(jnp.array(out_state))**2 * prior_prob_of_input[idx])\n",
    "\n",
    "  Decision_judge_Matrix = (output_conditional_probs)/(jnp.sum(output_conditional_probs + 1e-15, axis = 0))\n",
    "\n",
    "  # Create a mask where Decision_judge_Matrix is below the threshold\n",
    "  mask = Decision_judge_Matrix[:4, :] < IDK_threshold\n",
    "\n",
    "  # Use NumPy operations to update the array efficiently\n",
    "  output_conditional_probs_withIDK[:4, :][mask] = 0\n",
    "  output_conditional_probs_withIDK[4, :] += np.sum(output_conditional_probs[:4, :] * mask, axis=0)\n",
    "  output_conditional_probs_withIDK[:4, :][~mask] = output_conditional_probs[:4, :][~mask]\n",
    "\n",
    "  P_success_withIDK= 1 - np.sum(output_conditional_probs_withIDK[4]) #Success probability to get a yield\n",
    "  P_errorWhenSuccess_withIDK= 1-np.sum(np.max(output_conditional_probs_withIDK, axis = 0)) #Probability of a success yield cause error\n",
    "  Entropy_WhenSucess_withIDK= np.maximum((1 - entropy(Decision_judge_Matrix + 1e-15, axis = 0,base = 2)), np.zeros(circ.num_possible_states)) @ np.sum(output_conditional_probs_withIDK[0:4], axis = 0) #Bell-state entropy rate, as decribed the 2nd way below.\n",
    "\n",
    "  return P_success_withIDK, P_errorWhenSuccess_withIDK, Entropy_WhenSucess_withIDK, out_state_array\n",
    "\n"
   ]
  },
  {
   "cell_type": "code",
   "execution_count": 7,
   "id": "2adf8a9b",
   "metadata": {},
   "outputs": [
    {
     "name": "stdout",
     "output_type": "stream",
     "text": [
      "(32,)\n"
     ]
    },
    {
     "data": {
      "text/plain": [
       "array([[-0.+0.5j, -0.+0.j , -0.+0.5j, -0.+0.j , -0.+0.5j, -0.+0.5j,\n",
       "        -0.+0.j , -0.+0.j ],\n",
       "       [-0.+0.j ,  0.-0.5j, -0.+0.j ,  0.-0.5j, -0.+0.5j,  0.-0.5j,\n",
       "        -0.+0.j ,  0.-0.j ],\n",
       "       [-0.+0.5j, -0.+0.j ,  0.-0.5j,  0.-0.j , -0.+0.j , -0.+0.j ,\n",
       "         0.-0.5j,  0.-0.5j],\n",
       "       [-0.+0.j ,  0.-0.5j,  0.-0.j , -0.+0.5j, -0.+0.j ,  0.-0.j ,\n",
       "         0.-0.5j, -0.+0.5j],\n",
       "       [-0.+0.5j, -0.+0.j , -0.+0.5j, -0.+0.j ,  0.-0.5j,  0.-0.5j,\n",
       "         0.-0.j ,  0.-0.j ],\n",
       "       [-0.+0.j ,  0.-0.5j, -0.+0.j ,  0.-0.5j,  0.-0.5j, -0.+0.5j,\n",
       "         0.-0.j , -0.+0.j ],\n",
       "       [-0.+0.5j, -0.+0.j ,  0.-0.5j,  0.-0.j ,  0.-0.j ,  0.-0.j ,\n",
       "        -0.+0.5j, -0.+0.5j],\n",
       "       [-0.+0.j ,  0.-0.5j,  0.-0.j , -0.+0.5j,  0.-0.j , -0.+0.j ,\n",
       "        -0.+0.5j,  0.-0.5j]])"
      ]
     },
     "execution_count": 7,
     "metadata": {},
     "output_type": "execute_result"
    }
   ],
   "source": [
    "SCF_pruned = Prunable_SCF(N = N_modes, M = ms.haar_mat(N_modes), stride_vals = np.array([1, 2, 4]))\n",
    "\n",
    "stride_1_phases = np.array([jnp.pi, 0] * (N_modes//4) + [jnp.pi/2, 0] * (N_modes//4))\n",
    "stride_2_phases = np.array([jnp.pi/2, 0] * (N_modes//4) + [jnp.pi, 0] * (N_modes//4))\n",
    "stride_4_phases = np.array([jnp.pi/2, 0] * (N_modes//2))\n",
    "phase_screen = np.array([0] * (N_modes))\n",
    "\n",
    "dummy_stride_phases = np.array([jnp.pi, 0] * (N_modes//2))\n",
    "phases_dict = {1: stride_1_phases, 2: stride_2_phases, 4: stride_4_phases}\n",
    "\n",
    "stride_array = np.array([1, 2, 4])\n",
    "SCF_full = Prunable_SCF(N = N_modes, M = jnp.eye(N_modes) + 0j, stride_vals = stride_array)\n",
    "\n",
    "def make_phases(stride_array):\n",
    "  stride_check, stride_phases = [], []\n",
    "  for idx, s in enumerate(stride_array):\n",
    "    if s not in stride_check:\n",
    "      stride_check.append(s)\n",
    "      # stride_phases = np.concatenate(stride_phases, phases_dict[s])\n",
    "      stride_phases.extend(phases_dict[s])\n",
    "    else:\n",
    "      # stride_phases = np.concatenate(stride_phases, dummy_stride_phases)\n",
    "      stride_phases.extend(dummy_stride_phases)\n",
    "  stride_phases.extend(phase_screen)\n",
    "  return np.array(stride_phases)\n",
    "\n",
    "# stride_phases = np.array(stride_phases)\n",
    "stride_phases = make_phases(stride_array)\n",
    "print (stride_phases.shape)\n",
    "np.round(SCF_full.matrix(p_phase = stride_phases), 3)"
   ]
  },
  {
   "cell_type": "code",
   "execution_count": 8,
   "id": "976d0fbd",
   "metadata": {},
   "outputs": [
    {
     "name": "stdout",
     "output_type": "stream",
     "text": [
      "CPU times: total: 58.8 s\n",
      "Wall time: 11.6 s\n"
     ]
    },
    {
     "data": {
      "text/plain": [
       "(0.7500000316649675,\n",
       " 9.615905582904816e-08,\n",
       " 0.7499999355059117,\n",
       " array([[ 1.11157721e-33+0.0000000e+00j,  2.08664033e-38+0.0000000e+00j,\n",
       "         -2.86999379e-34+0.0000000e+00j, ...,\n",
       "          6.80687783e-33+1.5374821e-34j, -1.59343442e-38+0.0000000e+00j,\n",
       "         -1.11157639e-33+0.0000000e+00j],\n",
       "        [-1.11157721e-33+0.0000000e+00j, -2.08664033e-38+0.0000000e+00j,\n",
       "          8.61007735e-34+0.0000000e+00j, ...,\n",
       "          6.80687783e-33+1.5374821e-34j, -1.59343442e-38+0.0000000e+00j,\n",
       "         -1.11157639e-33+0.0000000e+00j],\n",
       "        [ 0.00000000e+00+0.0000000e+00j, -9.07589913e-34+0.0000000e+00j,\n",
       "          0.00000000e+00+0.0000000e+00j, ...,\n",
       "         -7.04804463e-24+0.0000000e+00j,  9.07587525e-34+0.0000000e+00j,\n",
       "          0.00000000e+00+0.0000000e+00j],\n",
       "        [ 0.00000000e+00+0.0000000e+00j,  0.00000000e+00+0.0000000e+00j,\n",
       "          0.00000000e+00+0.0000000e+00j, ...,\n",
       "          8.54308435e-24+0.0000000e+00j,  0.00000000e+00+0.0000000e+00j,\n",
       "          0.00000000e+00+0.0000000e+00j]]))"
      ]
     },
     "execution_count": 8,
     "metadata": {},
     "output_type": "execute_result"
    }
   ],
   "source": [
    "%time calc_success_prob(SCF_full.matrix(p_phase = stride_phases), IDK_threshold)"
   ]
  },
  {
   "cell_type": "code",
   "execution_count": 9,
   "id": "51a98ec9",
   "metadata": {},
   "outputs": [],
   "source": [
    "possible_strides = [2**i for i in range(0, int(np.log2(N_modes)))]\n",
    "\n",
    "def make_gm_errors(N, sigma, stride_array):\n",
    "  err_vals_stride = np.random.normal(0, sigma, size = 1)\n",
    "  err_stride_dict = {}\n",
    "  for i in range(len(possible_strides)):\n",
    "    err_stride_dict[possible_strides[i]] = err_vals_stride[0] #index 0 if only 1 MZI, i of log2N MZIs\n",
    "  return np.array([np.ones(N//2) * err_stride_dict[s] for s in stride_array]).flatten()\n",
    "\n",
    "# make_gm_errors(16, 0.01)\n",
    "alpha_err_gm = make_gm_errors(N_modes, 0.01, stride_array)\n",
    "beta_err_gm = make_gm_errors(N_modes, 0.01, stride_array)\n",
    "err_gm = np.array([alpha_err_gm, beta_err_gm]).T"
   ]
  },
  {
   "cell_type": "code",
   "execution_count": 17,
   "id": "18af57b4",
   "metadata": {},
   "outputs": [
    {
     "name": "stdout",
     "output_type": "stream",
     "text": [
      "Running for stride length: 3\n",
      "Epoch: 0, Success Probability: 0.7497530894820448, Error Probability: 0.00024753774574781673, Entropy: 0.7467140324131638\n",
      "Epoch: 1, Success Probability: 0.7495334422014712, Error Probability: 0.0004669893083061316, Entropy: 0.7441395701718049\n",
      "Epoch: 2, Success Probability: 0.7499279742402789, Error Probability: 7.268832996043528e-05, Entropy: 0.7489431727740281\n",
      "Epoch: 3, Success Probability: 0.7496983329907587, Error Probability: 0.00030176632121658997, Entropy: 0.7462765093523648\n",
      "Epoch: 4, Success Probability: 0.7476860987138121, Error Probability: 0.0023135852061318962, Entropy: 0.7268277719484957\n",
      "Running for stride length: 4\n",
      "Epoch: 0, Success Probability: 0.7499510035707229, Error Probability: 4.955345518031784e-05, Entropy: 0.7493542416717183\n",
      "Epoch: 1, Success Probability: 0.7497785678595301, Error Probability: 0.00022173288327986818, Entropy: 0.7471983992922722\n",
      "Epoch: 2, Success Probability: 0.7498709978902283, Error Probability: 0.00012979015897773838, Entropy: 0.7484532384265248\n",
      "Epoch: 3, Success Probability: 0.7491375639173834, Error Probability: 0.0008625099058747754, Entropy: 0.741366545631242\n",
      "Epoch: 4, Success Probability: 0.7481285873788357, Error Probability: 0.0018712236696865059, Entropy: 0.7329401483383923\n",
      "Running for stride length: 5\n",
      "Epoch: 0, Success Probability: 0.7427611352148986, Error Probability: 0.007235785254322669, Entropy: 0.6902486534241027\n",
      "Epoch: 1, Success Probability: 0.7495020224735727, Error Probability: 0.0004982390835672756, Entropy: 0.7441777722971168\n",
      "Epoch: 2, Success Probability: 0.7498009551931986, Error Probability: 0.0002000105118109552, Entropy: 0.7474147485862928\n",
      "Epoch: 3, Success Probability: 0.749841481933783, Error Probability: 0.0001587163693588245, Entropy: 0.7478893977434904\n",
      "Epoch: 4, Success Probability: 0.7494322157478623, Error Probability: 0.0005675654377446104, Entropy: 0.743339198506622\n",
      "Running for stride length: 6\n",
      "Epoch: 0, Success Probability: 0.7498408492121001, Error Probability: 0.00015888898114002625, Entropy: 0.7477167368828355\n",
      "Epoch: 1, Success Probability: 0.7496345207435727, Error Probability: 0.0003652424947362398, Entropy: 0.7451907227441432\n",
      "Epoch: 2, Success Probability: 0.749966389913126, Error Probability: 3.371716259059632e-05, Entropy: 0.7494429079460331\n",
      "Epoch: 3, Success Probability: 0.7498893777222025, Error Probability: 0.00011032302721603049, Entropy: 0.7484232735188581\n",
      "Epoch: 4, Success Probability: 0.7499340900206682, Error Probability: 6.534534594315744e-05, Entropy: 0.7490362924813755\n",
      "Running for stride length: 7\n",
      "Epoch: 0, Success Probability: 0.7498810581521966, Error Probability: 0.0001190103574539858, Entropy: 0.7483954967522559\n",
      "Epoch: 1, Success Probability: 0.7499624276974441, Error Probability: 3.835763698756267e-05, Entropy: 0.7494260998745789\n",
      "Epoch: 2, Success Probability: 0.7496510056415148, Error Probability: 0.0003505128506917643, Entropy: 0.7458165743938847\n",
      "Epoch: 3, Success Probability: 0.74999929165189, Error Probability: 1.6882732434275738e-08, Entropy: 0.7499907966271608\n",
      "Epoch: 4, Success Probability: 0.7496866488789803, Error Probability: 0.0003140790401092719, Entropy: 0.7462005541851087\n"
     ]
    }
   ],
   "source": [
    "sigma_val = 0.01\n",
    "N_modes = 8\n",
    "ct = 5\n",
    "IDK_threshold = 0.6\n",
    "\n",
    "stride_array = {3: [1, 2, 4], 4: [1, 2, 1, 4], 5: [1, 2, 1, 4, 1], 6: [1, 2, 1, 4, 1, 2], 7: [1, 2, 1, 4, 1, 2, 1]}\n",
    "# stride_array = {7: [1, 2, 1, 4, 1, 2, 1]}\n",
    "P_success_withIDK_array = np.zeros((5, ct))\n",
    "P_errorWhenSuccess_withIDK_array = np.zeros((5, ct))\n",
    "Entropy_WhenSucess_withIDK_array = np.zeros((5, ct))\n",
    "out_states_array = np.zeros((len(stride_array.keys()), ct, 4, circ.num_possible_states)) + 0j\n",
    "\n",
    "for idx, s_len in enumerate(list(stride_array.keys())):\n",
    "  print (f'Running for stride length: {s_len}')\n",
    "  s_array = stride_array[s_len]\n",
    "  trunc = Prunable_SCF(N = N_modes, M = ms.haar_mat(N_modes), stride_vals = s_array)\n",
    "  stride_phases = make_phases(s_array)\n",
    "  for jdx in (range(ct)):\n",
    "    alpha_err_gm = make_gm_errors(N_modes, sigma_val, s_array)\n",
    "    beta_err_gm = make_gm_errors(N_modes, sigma_val, s_array)\n",
    "    err_gm = np.array([alpha_err_gm, beta_err_gm]).T\n",
    "    P_success_withIDK, P_errorWhenSuccess_withIDK, Entropy_WhenSucess_withIDK, out_states = calc_success_prob(trunc.matrix(p_phase = stride_phases, p_splitter = err_gm), IDK_threshold)\n",
    "    print (f'Epoch: {jdx}, Success Probability: {P_success_withIDK}, Error Probability: {P_errorWhenSuccess_withIDK}, Entropy: {Entropy_WhenSucess_withIDK}')\n",
    "    P_success_withIDK_array[idx, jdx] = P_success_withIDK\n",
    "    P_errorWhenSuccess_withIDK_array[idx, jdx] = P_errorWhenSuccess_withIDK\n",
    "    Entropy_WhenSucess_withIDK_array[idx, jdx] = Entropy_WhenSucess_withIDK\n",
    "    out_states_array[idx, jdx] = out_states"
   ]
  },
  {
   "cell_type": "code",
   "execution_count": 18,
   "id": "d207ca25",
   "metadata": {},
   "outputs": [
    {
     "data": {
      "image/png": "[encoded data removed]",
      "text/plain": [
       "<Figure size 550x550 with 2 Axes>"
      ]
     },
     "metadata": {},
     "output_type": "display_data"
    }
   ],
   "source": [
    "def make_boxplot(ax, data, x_position):\n",
    "  # ax.set_xlim(0.00, 0.11)\n",
    "  ax.boxplot(data, positions = [np.round(x_position, 3)], whis = 1000, widths = 0.2, showmeans = True, capwidths = 0.2, patch_artist=True, boxprops={'facecolor': 'black', 'edgecolor': 'white'},\n",
    "            medianprops = {\"color\": \"white\", \"linewidth\": 2.5}, meanprops = {'marker': 'D', 'markeredgecolor': 'white', 'markerfacecolor': 'firebrick'})\n",
    "\n",
    "fig, ax = plt.subplots(1, 2, figsize = (5.5, 5.5))\n",
    "for idx, data in enumerate(P_success_withIDK_array):\n",
    "  make_boxplot(ax[0], data, list(stride_array.keys())[idx])\n",
    "ax[0].set_ylabel('P(Success)')\n",
    "# ax[0].set_xticklabels(np.round(sigma_vals, 3), fontsize = 7)\n",
    "\n",
    "for idx, data in enumerate(P_errorWhenSuccess_withIDK_array):\n",
    "  make_boxplot(ax[1], data, list(stride_array.keys())[idx])\n",
    "ax[1].set_ylabel('P(Error/Success)')\n",
    "\n",
    "fig.tight_layout()"
   ]
  }
 ],
 "metadata": {
  "kernelspec": {
   "display_name": "base",
   "language": "python",
   "name": "python3"
  },
  "language_info": {
   "codemirror_mode": {
    "name": "ipython",
    "version": 3
   },
   "file_extension": ".py",
   "mimetype": "text/x-python",
   "name": "python",
   "nbconvert_exporter": "python",
   "pygments_lexer": "ipython3",
   "version": "3.12.7"
  }
 },
 "nbformat": 4,
 "nbformat_minor": 5
}
